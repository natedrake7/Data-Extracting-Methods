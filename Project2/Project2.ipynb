{
 "cells": [
  {
   "cell_type": "code",
   "execution_count": 61,
   "metadata": {},
   "outputs": [],
   "source": [
    "import pandas as pd\n",
    "import numpy as np\n",
    "from dateutil.parser import parse\n",
    "pd.set_option(\"display.max_rows\",None)\n",
    "pd.set_option(\"display.max_columns\",None)"
   ]
  },
  {
   "attachments": {},
   "cell_type": "markdown",
   "metadata": {},
   "source": [
    "Pre-Processing"
   ]
  },
  {
   "cell_type": "code",
   "execution_count": 80,
   "metadata": {},
   "outputs": [],
   "source": [
    "data = pd.read_csv('books_1.Best_Books_Ever.csv') #read the data\n",
    "df = pd.DataFrame(data) #create the dataframe\n",
    "\n",
    "df.dropna(inplace=True) #drop the null values from the original dataframe\n",
    "\n",
    "df['ratingsByStars'] = df['ratingsByStars'].str.strip('[]') #remvove [] brackets\n",
    "df['ratingsByStars'] = df['ratingsByStars'].str.replace(\"'\",'') #remove the ' from each word\n",
    "df[['ratingStar5','ratingStar4','ratingStar3','ratingStar2','ratingStar1']] = df['ratingsByStars'].str.split(',',expand=True) #split the string by each comma and add the new\n",
    "#string to each of the new columns created\n",
    "\n",
    "df['genres'] = df['genres'].str.strip('[]') #remove [] brackets\n",
    "df['genreSingle'] = df['genres'].str.split(',').str[0].str.strip() #extract only the first string from the stri split method\n",
    "\n",
    "df['Year'] = pd.to_datetime(df['publishDate'], errors='coerce') #conver the column to datetime object and if we encounter error set the value\n",
    "                                                                #to null\n",
    "df.dropna(inplace=True) #2 records had invalid publish date so we remove them from the dataframe\n",
    "df['Year'] = df['Year'].dt.year #extract the year from the dates"
   ]
  }
 ],
 "metadata": {
  "kernelspec": {
   "display_name": "base",
   "language": "python",
   "name": "python3"
  },
  "language_info": {
   "codemirror_mode": {
    "name": "ipython",
    "version": 3
   },
   "file_extension": ".py",
   "mimetype": "text/x-python",
   "name": "python",
   "nbconvert_exporter": "python",
   "pygments_lexer": "ipython3",
   "version": "3.9.12"
  },
  "orig_nbformat": 4
 },
 "nbformat": 4,
 "nbformat_minor": 2
}
