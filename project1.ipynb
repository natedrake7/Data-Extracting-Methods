{
 "cells": [
  {
   "cell_type": "code",
   "execution_count": null,
   "metadata": {},
   "outputs": [],
   "source": [
    "import numpy as np\n",
    "import pandas as pd\n",
    "import matplotlib.pyplot as plt\n",
    "from datetime import date,timedelta\n",
    "pd.set_option(\"display.max_rows\",None)\n",
    "pd.set_option(\"display.max_columns\",None)"
   ]
  },
  {
   "attachments": {},
   "cell_type": "markdown",
   "metadata": {},
   "source": [
    "Question 1&2"
   ]
  },
  {
   "cell_type": "code",
   "execution_count": null,
   "metadata": {},
   "outputs": [],
   "source": [
    "#Create Dataframe from csv\n",
    "data = pd.read_csv('marketing_campaign.csv',delimiter= '\\t')\n",
    "df = pd.DataFrame(data)\n",
    "\n",
    "df.dropna(inplace=True) #may need to change inplace to false\n",
    "\n",
    "#Change Dt_Customer column to datetime object\n",
    "df['Dt_Customer'] = pd.to_datetime(df['Dt_Customer'],format='%d-%m-%Y')\n",
    "#Create a pie chart for the education column\n",
    "Education = df['Education'].value_counts()\n",
    "Education.plot.pie(title='Education', autopct='%1.1f%%')\n",
    "plt.show()\n",
    "#find all unique elements in the education column\n",
    "print(df['Education'].unique())\n",
    "#give a unique numerical value for each value of the list above\n",
    "df['Education'] = pd.factorize(df['Education'])[0]\n",
    "print(df['Education'].unique())\n",
    "#['Graduation' 'PhD' 'Master' 'Basic' '2n Cycle']\n",
    "#[0 1 2 3 4]"
   ]
  },
  {
   "cell_type": "code",
   "execution_count": null,
   "metadata": {},
   "outputs": [],
   "source": [
    "#Change the Values of YOLO or Absurd or Alone to Single\n",
    "df.loc[(df['Marital_Status'] == 'YOLO') | \n",
    "       (df['Marital_Status'] == 'Absurd') | \n",
    "       (df['Marital_Status'] == 'Alone'),'Marital_Status'] = 'Single'\n",
    "#Create a pie chart for the Marital Status column\n",
    "MaritalStatus = df['Marital_Status'].value_counts()\n",
    "MaritalStatus.plot.pie(title='Marital Status', autopct='%1.1f%%')\n",
    "plt.show()\n",
    "print(df['Marital_Status'].unique())\n",
    "#give a unique numerical value for each value of the list above\n",
    "df['Marital_Status'] = pd.factorize(df['Marital_Status'])[0]\n",
    "print(df['Marital_Status'].unique())\n",
    "#['Single' 'Together' 'Married' 'Divorced' 'Widow']\n",
    "#[0 1 2 3 4]"
   ]
  },
  {
   "attachments": {},
   "cell_type": "markdown",
   "metadata": {},
   "source": [
    "Question 3"
   ]
  },
  {
   "cell_type": "code",
   "execution_count": null,
   "metadata": {},
   "outputs": [],
   "source": [
    "#get the current date\n",
    "df['Customer_For'] = pd.to_datetime(date.today())\n",
    "#subtract the number of days since the customer's last visit\n",
    "df['Customer_For'] = df['Customer_For'] - pd.to_timedelta(df['Recency'],unit='D')\n",
    "#subtract the dates of the customer's first and last visit\n",
    "df['Customer_For'] = df['Customer_For'] - df['Dt_Customer']\n",
    "\n",
    "#get the current year - the date of the customer's birth\n",
    "df['Age'] = date.today().year - df['Year_Birth']\n",
    "\n",
    "# get the total amount of money spent by the customer in the last 2 years\n",
    "df['Spent'] = df['MntWines'] + df['MntFruits'] + df['MntMeatProducts'] + df['MntFishProducts'] + df['MntGoldProds']\n",
    "\n",
    "#Get the number of children in the customer's family\n",
    "df['Children'] = df['Kidhome'] + df['Teenhome']\n",
    "\n",
    "#if marital status is 1 or 2 ,customer is either together or married\n",
    "#so we increment family size by 2\n",
    "#else we increment by 1\n",
    "df['Family_Size'] = df['Marital_Status'].apply(lambda x: 2 if (x == 1) | (x == 2) else 1)\n",
    "#Increment the family size by the number of children in the family\n",
    "df['Family_Size'] += df['Children']\n",
    "\n",
    "#If customer has at least 1 child,he is a parent\n",
    "df['Is_Parent'] = df['Children'].apply(lambda x: 1 if x >=1 else 0)\n",
    "\n",
    "#Check if customer is alone or has a partner\n",
    "df['Living_With'] = df['Marital_Status'].apply(lambda x: 'Partner' if (x == 1) | (x == 2) else 'Alone')\n",
    "\n",
    "#Create Age groups\n",
    "def Age_Sort(x):\n",
    "    if x <= 30:\n",
    "        return '21-30'\n",
    "    elif x <= 40:\n",
    "        return '31-40'\n",
    "    elif x <= 50:\n",
    "        return '41-50'\n",
    "    elif x <= 60:\n",
    "        return '51-60'\n",
    "    elif x <= 70:\n",
    "        return '61-70'\n",
    "    elif x <= 80:\n",
    "        return '71-80'\n",
    "    else:\n",
    "        return '>80'\n",
    "#apply the function to the age column\n",
    "df['Age_Group'] = df['Age'].apply(Age_Sort)"
   ]
  }
 ],
 "metadata": {
  "kernelspec": {
   "display_name": "base",
   "language": "python",
   "name": "python3"
  },
  "language_info": {
   "codemirror_mode": {
    "name": "ipython",
    "version": 3
   },
   "file_extension": ".py",
   "mimetype": "text/x-python",
   "name": "python",
   "nbconvert_exporter": "python",
   "pygments_lexer": "ipython3",
   "version": "3.9.12"
  },
  "orig_nbformat": 4
 },
 "nbformat": 4,
 "nbformat_minor": 2
}
