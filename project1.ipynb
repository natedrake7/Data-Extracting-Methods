{
 "cells": [
  {
   "cell_type": "code",
   "execution_count": null,
   "metadata": {},
   "outputs": [],
   "source": [
    "import numpy as np\n",
    "import pandas as pd\n",
    "import matplotlib.pyplot as plt\n",
    "pd.set_option(\"display.max_rows\",None)\n",
    "pd.set_option(\"display.max_columns\",None)"
   ]
  },
  {
   "attachments": {},
   "cell_type": "markdown",
   "metadata": {},
   "source": [
    "Question 1&2"
   ]
  },
  {
   "cell_type": "code",
   "execution_count": null,
   "metadata": {},
   "outputs": [],
   "source": [
    "#Create Dataframe from csv\n",
    "data = pd.read_csv('marketing_campaign.csv',delimiter= '\\t')\n",
    "df = pd.DataFrame(data)\n",
    "\n",
    "df.dropna(inplace=True) #may need to change inplace to false\n",
    "\n",
    "#Change Dt_Customer column to datetime object\n",
    "df['Dt_Customer'] = pd.to_datetime(df['Dt_Customer'],format='%d-%m-%Y')\n",
    "#Create a pie chart for the education column\n",
    "Education = df['Education'].value_counts()\n",
    "Education.plot.pie(title='Education', autopct='%1.1f%%')\n",
    "plt.show()\n",
    "#find all unique elements in the education column\n",
    "print(df['Education'].unique())\n",
    "#give a unique numerical value for each value of the list above\n",
    "df['Education'] = pd.factorize(df['Education'])[0]\n",
    "print(df['Education'].unique())\n",
    "#['Graduation' 'PhD' 'Master' 'Basic' '2n Cycle']\n",
    "#[0 1 2 3 4]"
   ]
  },
  {
   "cell_type": "code",
   "execution_count": null,
   "metadata": {},
   "outputs": [],
   "source": [
    "#Change the Values of YOLO or Absurd or Alone to Single\n",
    "df.loc[(df['Marital_Status'] == 'YOLO') | \n",
    "       (df['Marital_Status'] == 'Absurd') | \n",
    "       (df['Marital_Status'] == 'Alone')] = 'Single'\n",
    "#Create a pie chart for the Marital Status column\n",
    "MaritalStatus = df['Marital_Status'].value_counts()\n",
    "MaritalStatus.plot.pie(title='Marital Status', autopct='%1.1f%%')\n",
    "plt.show()\n",
    "print(df['Marital_Status'].unique())\n",
    "#give a unique numerical value for each value of the list above\n",
    "df['Marital_Status'] = pd.factorize(df['Marital_Status'])[0]\n",
    "print(df['Marital_Status'].unique())\n",
    "#['Single' 'Together' 'Married' 'Divorced' 'Widow']\n",
    "#[0 1 2 3 4]\n",
    "#temp"
   ]
  }
 ],
 "metadata": {
  "kernelspec": {
   "display_name": "base",
   "language": "python",
   "name": "python3"
  },
  "language_info": {
   "codemirror_mode": {
    "name": "ipython",
    "version": 3
   },
   "file_extension": ".py",
   "mimetype": "text/x-python",
   "name": "python",
   "nbconvert_exporter": "python",
   "pygments_lexer": "ipython3",
   "version": "3.9.12"
  },
  "orig_nbformat": 4
 },
 "nbformat": 4,
 "nbformat_minor": 2
}
