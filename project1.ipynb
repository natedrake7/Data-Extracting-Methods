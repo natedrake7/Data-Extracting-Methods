{
 "cells": [
  {
   "cell_type": "code",
   "execution_count": null,
   "metadata": {},
   "outputs": [],
   "source": [
    "import numpy as np\n",
    "import pandas as pd\n",
    "import matplotlib.pyplot as plt\n",
    "import seaborn as sns\n",
    "from datetime import date,timedelta\n",
    "from sklearn.preprocessing import LabelEncoder,StandardScaler\n",
    "from sklearn.decomposition import PCA\n",
    "from mpl_toolkits.mplot3d import Axes3D\n",
    "from sklearn.cluster import KMeans\n",
    "from sklearn.cluster import AgglomerativeClustering\n",
    "from sklearn.metrics import silhouette_score\n",
    "pd.set_option(\"display.max_rows\",None)\n",
    "pd.set_option(\"display.max_columns\",None)"
   ]
  },
  {
   "attachments": {},
   "cell_type": "markdown",
   "metadata": {},
   "source": [
    "Question 1&2"
   ]
  },
  {
   "cell_type": "code",
   "execution_count": null,
   "metadata": {},
   "outputs": [],
   "source": [
    "data = pd.read_csv('marketing_campaign.csv',delimiter= '\\t') #Read the csv with the tab delimiter.\n",
    "df = pd.DataFrame(data) #create a dataframe based on the data of the csv file\n",
    "\n",
    "df.dropna(inplace=True) #Drop all the null values in the dataframe\n",
    "df['Dt_Customer'] = pd.to_datetime(df['Dt_Customer'],format='%d-%m-%Y') #convert DT_Customer column to datetime objects\n",
    "\n",
    "#Create a pie chart for the education column\n",
    "Education = df['Education'].value_counts() #Get the percentages for each unique value in the education column\n",
    "Education.plot.pie(title='Education', autopct='%1.1f%%') #a simple pie chart to show the percentages calculated above\n",
    "plt.show()\n",
    "\n",
    "print(df.dtypes[df.dtypes == 'object']) #print all dtype objects in the dataframe\n",
    "                                        #The education and marital status are converted to arithmetic values at the question 7 section\n"
   ]
  },
  {
   "cell_type": "code",
   "execution_count": null,
   "metadata": {},
   "outputs": [],
   "source": [
    "df.loc[(df['Marital_Status'] == 'YOLO') |  #if marital status is YOLO\n",
    "       (df['Marital_Status'] == 'Absurd') |#or Absurd\n",
    "       (df['Marital_Status'] == 'Alone'),'Marital_Status'] = 'Single' #or Alone ,make them equal to Single\n",
    "\n",
    "MaritalStatus = df['Marital_Status'].value_counts() #Get the percentages for each unique word in the marital status column\n",
    "MaritalStatus.plot.pie(title='Marital Status', autopct='%1.1f%%') #simple pie chart to show the percentages calculated above\n",
    "plt.show()\n",
    "\n",
    "print(df['Marital_Status'].unique()) #print all the unique words in the marital status column\n",
    "                                     #Marital Status column is converted to arithmetic values at the question 7"
   ]
  },
  {
   "attachments": {},
   "cell_type": "markdown",
   "metadata": {},
   "source": [
    "Question 3"
   ]
  },
  {
   "cell_type": "code",
   "execution_count": null,
   "metadata": {},
   "outputs": [],
   "source": [
    "df['Customer_For'] = pd.to_datetime(date.today()) #Get the current date as a datetime object\n",
    "                                                  #and create a column with the current date at each row\n",
    "df['Customer_For'] = df['Customer_For'] - pd.to_timedelta(df['Recency'],unit='D') #Subtract from the current date\n",
    "                                                                                  #The number of days since the customer's last visit\n",
    "df['Customer_For'] = df['Customer_For'] - df['Dt_Customer'] #Subtract from the calculated date above,the date of the\n",
    "                                                            #Customer's first visit\n",
    "df['Age'] = date.today().year - df['Year_Birth'] #Subtract from the current Year the Birth year of each customer\n",
    "\n",
    "df['Spent'] = df['MntWines'] + df['MntFruits'] + df['MntMeatProducts'] + df['MntFishProducts'] + df['MntGoldProds'] #Calculate the amount of money spent by the customer\n",
    "                                                                                                                    #in the last 2 years\n",
    "df['Children'] = df['Kidhome'] + df['Teenhome'] #Get the total number of children in each family\n",
    "\n",
    "df['Family_Size'] = df['Marital_Status'].apply(lambda x: 2 if (x == 'Married') | (x == 'Together') else 1) #apply a simple lambda function that checks if a customer\n",
    "                                                                                                           #is married or together with another person ,so it increments family size by 2\n",
    "                                                                                                           #else by 1\n",
    "df['Family_Size'] += df['Children'] #Lastly increment the family size by the number of children in each family\n",
    "\n",
    "df['Is_Parent'] = df['Children'].apply(lambda x: 1 if x >=1 else 0) #For a customer to be a parent ,he needs to have at least 1 child\n",
    "\n",
    "df['Living_With'] = df['Marital_Status'].apply(lambda x: 'Partner' if (x == 'Married') | (x == 'Together') else 'Alone') #check if a customer is married or together so he has a partner\n",
    "                                                                                                                         #else he is alone\n",
    "def Age_Sort(x): #Simple function to calculate based on age\n",
    "    if x <= 30:  #the age groups of the customers\n",
    "        return '21-30'\n",
    "    elif x <= 40:\n",
    "        return '31-40'\n",
    "    elif x <= 50:\n",
    "        return '41-50'\n",
    "    elif x <= 60:\n",
    "        return '51-60'\n",
    "    elif x <= 70:\n",
    "        return '61-70'\n",
    "    elif x <= 80:\n",
    "        return '71-80'\n",
    "    else:\n",
    "        return '>80'\n",
    "    \n",
    "df['Age_Group'] = df['Age'].apply(Age_Sort) #apply the above function to the age column in order to create the age group column"
   ]
  },
  {
   "attachments": {},
   "cell_type": "markdown",
   "metadata": {},
   "source": [
    "Question 4"
   ]
  },
  {
   "cell_type": "code",
   "execution_count": null,
   "metadata": {},
   "outputs": [],
   "source": [
    "def zscore(col): #Subtract from the column the mean of the column\n",
    "    return (col - np.mean(col)) / np.std(col) #and divide that by the standard deviation of the column\n",
    "\n",
    "z_scores = zscore(df['Year_Birth']) #Calculate the z scores for the year birth column\n",
    "df =  df[(z_scores <= 3) & (z_scores >= -3)] #Exclude the extreme values\n",
    "\n",
    "z_scores = zscore(df['Income']) #Calculate the z scores for the income column\n",
    "df =  df[(z_scores <= 3) & (z_scores >= -3)] #Exclude the extreme values\n",
    "\n",
    "z_scores = zscore(df['Spent']) #Calculate z scores for the Spent column\n",
    "df =  df[(z_scores <= 3) & (z_scores >= -3)] #Exclude the extreme values\n",
    "\n",
    "z_scores = zscore(df['NumDealsPurchases']) #Calculate z scores for the Num Deals Purchases Column\n",
    "df =  df[(z_scores <= 3) & (z_scores >= -3)] #Exclude the extreme values\n",
    "\n",
    "#The columns selected above are the ones with the biggest probability to have extreme values\n",
    "#as most of the others have only values of expressions or their arithmetic equal (0 or 1 for 2 expressions)."
   ]
  },
  {
   "attachments": {},
   "cell_type": "markdown",
   "metadata": {},
   "source": [
    "Question 5"
   ]
  },
  {
   "cell_type": "code",
   "execution_count": null,
   "metadata": {},
   "outputs": [],
   "source": [
    "sns.heatmap(df.corr(),cmap='RdBu') #Use .corr() to get the correlations between the columns of Dataframe \n",
    "                                   #and then use seaborn.heatmap to illustrate it in a red-blue spectrum 2d heatmap"
   ]
  },
  {
   "attachments": {},
   "cell_type": "markdown",
   "metadata": {},
   "source": [
    "Question 6"
   ]
  },
  {
   "cell_type": "code",
   "execution_count": null,
   "metadata": {},
   "outputs": [],
   "source": [
    "#1st graph (6.1 Question)\n",
    "counts = df['Marital_Status'].value_counts() #count the number of occurrences of each category in the Marital Status column\n",
    "counts.plot.pie(autopct='%1.1f%%')\n",
    "plt.show()                                  #display the pie chart and observe the highest percentage of marital status\n",
    "\n",
    "#2nd graph  (6.2 Question)\n",
    "counts = df['Complain'].value_counts()  #count values in Complain column for each value\n",
    "labels_dict = {1 : 'Yes', 0 : 'No'} # dictionary to map 1 as yes and 0 as no\n",
    "new_labels = counts.index.map(labels_dict) #map the percentages\n",
    "\n",
    "fig,ax = plt.subplots()\n",
    "ax.bar(new_labels, counts.values, width=0.1) #add as labels the yes and no\n",
    "ax.set_title('Bar Chart of complain instances')\n",
    "ax.set_xlabel('Existence of complain')\n",
    "ax.set_ylabel('Occurances')\n",
    "\n",
    "for i, v in enumerate(counts.values):   #display the actual amounts into the pie\n",
    "    ax.text(i, v, str(v), ha='center', va='bottom')\n",
    "\n",
    "plt.show()    #display the bar chart and observe above the bar the total occurances of clients with a complain and those without it.\n",
    "\n",
    "#3rd graph  (6.3 Question)\n",
    "newdf = df[['Marital_Status', 'Spent']]   #get the columns that are gonna be analyzed\n",
    "newdf = newdf.groupby('Marital_Status').sum()   #group the data by Family Size and compute the sum of income for each size \n",
    "\n",
    "newdf.plot(kind='bar',color='black')\n",
    "\n",
    "plt.xlabel('Marital Status')\n",
    "plt.ylabel('Spent')\n",
    "plt.title('Total spendings per marital status')\n",
    "plt.show()\n",
    "\n",
    "#4th graph  (6.4 Question)\n",
    "fig = plt.figure()  #create a 3D axis\n",
    "ax = plt.axes(projection='3d')\n",
    "\n",
    "ax.scatter(df['Spent'], df['Kidhome'], df['Family_Size'],color='brown') #represent the data of the three columns in a scatter plot\n",
    "ax.set_xlabel('Spent')\n",
    "ax.set_ylabel('Kidhome')\n",
    "ax.set_zlabel('Family Size')\n",
    "plt.show() #display the scatter 3d chart and observe the frequency of bigger size of families spending less and less.\n",
    "\n",
    "#5th graph (6.5 Question)\n",
    "newdf = df[['Age_Group', 'Spent']]    #get the columns that are gonna be analyzed\n",
    "newdf = newdf.groupby('Age_Group').sum()    #group the data by Age Groups and compute the sum of spendings for each age-group \n",
    "\n",
    "newdf.plot(kind='bar',color='purple')\n",
    "plt.xlabel('Age Groups')\n",
    "plt.ylabel('Spent')\n",
    "plt.title('Total spendings per age group')\n",
    "plt.show()\n",
    "\n",
    "#6th graph (6.6 Question)\n",
    "df.plot.scatter(x='Income', y='Spent',s=20) #Show the values between the two columns we want to analyze in a scatter plot\n",
    "\n",
    "#7th graph (6.7 Question)\n",
    "newdf = df[['Education', 'Income']] #get the columns that are gonna be analyzed\n",
    "newdf = newdf.groupby('Education').mean() #group the data by education category and compute the mean income of each category\n",
    "\n",
    "newdf.plot(kind='bar', color='green')\n",
    "plt.xlabel('Education')\n",
    "plt.ylabel('Average Income')\n",
    "plt.title('Average income per education level')\n",
    "plt.show()\n",
    "\n",
    "#8th graph (6.8 Question)\n",
    "newdf = df[['Family_Size', 'Income']]   #get the columns that are gonna be analyzed\n",
    "newdf = newdf.groupby('Family_Size').mean() #group the data by family size  and compute the mean income of each size\n",
    "\n",
    "newdf.plot(kind='bar',color='orange')\n",
    "plt.xlabel('Family Size')\n",
    "plt.ylabel('Average Income')\n",
    "plt.title('Average income per family size')\n",
    "plt.show()\n",
    "\n",
    "#9th graph (6.9 Question)\n",
    "newdf = df[['Kidhome', 'Income']] #get the columns that are gonna be analyzed\n",
    "newdf = newdf.groupby('Kidhome').mean() #group the data by numbers of kids in house and compute the mean income of each size\n",
    "\n",
    "newdf.plot(kind='bar',color='black')\n",
    "plt.xlabel('Number of Kids at home')\n",
    "plt.ylabel('Average Income')\n",
    "plt.title('Average income per Kidhome')\n",
    "plt.show()\n",
    "\n",
    "#10th graph (6.15 Question)\n",
    "plt.hist(df['Income'],color='red')  #show the data income of dataframe in a histogram\n",
    "plt.title('Histogram for Income')\n",
    "plt.xlabel('Amount')\n",
    "plt.ylabel('Occurances')\n",
    "plt.show()"
   ]
  },
  {
   "attachments": {},
   "cell_type": "markdown",
   "metadata": {},
   "source": [
    "Question 7"
   ]
  },
  {
   "cell_type": "code",
   "execution_count": null,
   "metadata": {},
   "outputs": [],
   "source": [
    "encoder = LabelEncoder() #Initialize the Label Encoder\n",
    "\n",
    "encoder.fit(df['Living_With']) #add the Living with column\n",
    "df['Living_With'] = encoder.transform(df['Living_With']) #and transform it\n",
    "\n",
    "encoder.fit(df['Marital_Status']) #fit the marital status column\n",
    "df['Marital_Status'] = encoder.transform(df['Marital_Status']) #tranform it to arithmetic values\n",
    "\n",
    "encoder.fit(df['Education']) #fit the education column\n",
    "df['Education'] = encoder.transform(df['Education']) #tranform it to arithmetic values\n",
    "\n",
    "new_df = df.copy() #copy the dataframe\n",
    "\n",
    "new_df.drop(['AcceptedCmp1','AcceptedCmp2','AcceptedCmp3','AcceptedCmp4','AcceptedCmp5','Complain','Response',\n",
    "           'Dt_Customer','Age_Group','Customer_For'],axis=1,inplace=True) #delete the non useful columns\n",
    "\n",
    "df_columns = new_df.columns #store the columns of the dataframe \n",
    "\n",
    "scaler = StandardScaler() #initialize standard scaler\n",
    "scaler.fit(new_df) #fit the dataframe\n",
    "new_df = scaler.transform(new_df) #Standardize the dataframe\n",
    "\n",
    "new_df = pd.DataFrame(new_df,columns=df_columns) #make the transformed array a dataframe once again\n",
    "                                                 #with the column names above\n",
    "\n",
    "pca = PCA(n_components=3) #initialize principal component analysis with 3 components\n",
    "\n",
    "new_df = pca.fit_transform(new_df) #fit and transform the dataframe\n",
    "\n",
    "fig = plt.figure() #initialize the scatter plot\n",
    "colors = ['red', 'green', 'blue'] #set colors\n",
    "\n",
    "ax = fig.add_subplot(111, projection='3d') #set the plot to be 3D\n",
    "\n",
    "ax.scatter(new_df[:, 0], new_df[:, 1], new_df[:, 2]) #scatter the data based on the axis\n",
    "ax.set_xlabel('Component 1') #set the axis labels\n",
    "ax.set_ylabel('Component 2')\n",
    "ax.set_zlabel('Component 3')\n",
    "plt.title('PCA Plot') #set title\n",
    "plt.show()"
   ]
  },
  {
   "attachments": {},
   "cell_type": "markdown",
   "metadata": {},
   "source": [
    "Question 8"
   ]
  },
  {
   "attachments": {},
   "cell_type": "markdown",
   "metadata": {},
   "source": [
    "ELBOW"
   ]
  },
  {
   "cell_type": "code",
   "execution_count": null,
   "metadata": {},
   "outputs": [],
   "source": [
    "df2 = new_df.copy() #Get a copy of the dataframe for the Agglomerative method\n",
    "                    #since the Kmeans method will change the values of the dataframe\n",
    "list = []\n",
    "for k in range(1,12): #check for various cluster values ranging from 1 to 12\n",
    "    kmeans = KMeans(n_clusters=k) #use the kmeans method for the various cluster values\n",
    "    kmeans.fit(new_df) #fit the dataframe\n",
    "    list.append(kmeans.inertia_) #append the squared distance to the list\n",
    "\n",
    "plt.plot(range(1, 12), list) #create the plot for the values of clusters and the distances\n",
    "plt.title('Elbow') #set title\n",
    "plt.xlabel('Number of clusters') #set labels\n",
    "plt.ylabel('Squared Distance Sum')\n",
    "plt.show() #show the plot\n"
   ]
  },
  {
   "attachments": {},
   "cell_type": "markdown",
   "metadata": {},
   "source": [
    "K-Means Clustering"
   ]
  },
  {
   "cell_type": "code",
   "execution_count": null,
   "metadata": {},
   "outputs": [],
   "source": [
    "kmeans = KMeans(n_clusters=4) #using the ELBOW method we can see the optimal number\n",
    "                              #of clusters is 4\n",
    "kmeans.fit_predict(new_df) #fit and predict the new model\n",
    "labels = kmeans.labels_ #get the cluster labels\n",
    "\n",
    "fig = plt.figure() #initialize the plot\n",
    "\n",
    "ax = fig.add_subplot(111, projection='3d') #set the projection to be 3D\n",
    "\n",
    "scatter = ax.scatter(new_df[:, 0], new_df[:, 1], new_df[:, 2], c=labels) #scatter the data and set colors based on the kmeans\n",
    "                                                                         \n",
    "ax.set_xlabel('PC1') #set the axis labels\n",
    "ax.set_ylabel('PC2') #for each dimension\n",
    "ax.set_zlabel('PC3')\n",
    "plt.title('K-Means Clustering') #set title\n",
    "plt.show()"
   ]
  },
  {
   "attachments": {},
   "cell_type": "markdown",
   "metadata": {},
   "source": [
    "Agglomerative Clustering"
   ]
  },
  {
   "cell_type": "code",
   "execution_count": null,
   "metadata": {},
   "outputs": [],
   "source": [
    "agg_clustering = AgglomerativeClustering(n_clusters=4) #initialize Agglomerative clustering\n",
    "                                                       #with 4 clusters\n",
    "agg_labels = agg_clustering.fit_predict(df2) #fit and predict the new model\n",
    "\n",
    "fig = plt.figure() #initialize the plot\n",
    "ax = fig.add_subplot(111, projection='3d') #set the projection to 3D\n",
    "\n",
    "ax.scatter(df2[:, 0],df2[:, 1],df2[:, 2], c=agg_labels) #scatter the data and set the colors based on the labels by the agglomerative clustering\n",
    "\n",
    "plt.title('Agglomerative Clustering') #set title\n",
    "ax.set_xlabel('PC1') #set labels\n",
    "ax.set_ylabel('PC2')\n",
    "ax.set_zlabel('PC3')\n",
    "plt.show()"
   ]
  }
 ],
 "metadata": {
  "kernelspec": {
   "display_name": "base",
   "language": "python",
   "name": "python3"
  },
  "language_info": {
   "codemirror_mode": {
    "name": "ipython",
    "version": 3
   },
   "file_extension": ".py",
   "mimetype": "text/x-python",
   "name": "python",
   "nbconvert_exporter": "python",
   "pygments_lexer": "ipython3",
   "version": "3.9.12"
  },
  "orig_nbformat": 4
 },
 "nbformat": 4,
 "nbformat_minor": 2
}
